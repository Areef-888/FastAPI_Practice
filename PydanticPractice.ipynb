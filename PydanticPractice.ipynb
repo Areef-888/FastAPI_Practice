{
 "cells": [
  {
   "cell_type": "code",
   "execution_count": null,
   "id": "610b214e",
   "metadata": {},
   "outputs": [],
   "source": [
    "from pydantic import Field\n",
    "\n",
    "\n",
    "class Car(BaseModel):\n",
    "    name:int=Field(gt=10)\n",
    "\n",
    "\n",
    "c=Car(name=12345678)    \n",
    "print(c)"
   ]
  }
 ],
 "metadata": {
  "kernelspec": {
   "display_name": ".venv",
   "language": "python",
   "name": "python3"
  },
  "language_info": {
   "name": "python",
   "version": "3.11.9"
  }
 },
 "nbformat": 4,
 "nbformat_minor": 5
}
